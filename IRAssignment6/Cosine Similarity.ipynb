{
 "cells": [
  {
   "cell_type": "code",
   "execution_count": 7,
   "metadata": {},
   "outputs": [],
   "source": [
    "from scipy.spatial.distance import cdist\n",
    "import numpy as np\n",
    "class CosineSimilarity(object):\n",
    "    def cosSim(self,a, b):       \n",
    "        dot = np.dot(a, b)\n",
    "        norma = np.linalg.norm(a)\n",
    "        normb = np.linalg.norm(b)\n",
    "        cos = dot / (norma * normb)\n",
    "        return cos"
   ]
  },
  {
   "cell_type": "code",
   "execution_count": 12,
   "metadata": {},
   "outputs": [
    {
     "name": "stdout",
     "output_type": "stream",
     "text": [
      "0.5969642596224372\n",
      "0.6064200638550592\n",
      "0.6604214298514217\n",
      "0.8069059656464488\n",
      "0.606230088862793\n",
      "0.9999071932103957\n",
      "0.5849669075267356\n",
      "0.6577737671141277\n"
     ]
    }
   ],
   "source": [
    "if __name__ == \"__main__\":\n",
    "    the =np.array([0.131, 0.001, 0.023, 0.918, 0.991, 0.912, 0.787, 0.675, 0.787, 0.987])\n",
    "    cat = np.array([0.911, 0.891, 0.912, 0.016, 0.099, 0.189, 0.777, 0.776, 0.853, 0.992])\n",
    "    for_ = np.array([0.112, 0.009, 0.032, 0.819, 0.971, 0.932, 0.788, 0.677, 0.777, 0.988])\n",
    "    data = np.array([0.954, 0.919, 0.881, 0.812, 0.901, 0.990, 0.012, 0.002, 0.014, 0.909])\n",
    "    mouse = np.array([0.912, 0.881, 0.922, 0.019, 0.100, 0.199, 0.011, 0.003, 0.016, 0.898])\n",
    "    it = np.array([0.142, 0.010, 0.026, 0.820, 0.917, 0.923, 0.781, 0.611, 0.722, 0.977])\n",
    "    dog = np.array([0.922, 0.882, 0.931, 0.011, 0.101, 0.193, 0.769, 0.762, 0.841, 0.989])\n",
    "    also = np.array([0.121, 0.004, 0.021, 0.919, 0.981, 0.917, 0.790, 0.617, 0.712, 0.969])\n",
    "    computer = np.array([0.912, 0.923, 0.899, 0.853, 0.910, 0.991, 0.022, 0.010, 0.016, 0.912])\n",
    "    \n",
    "    \n",
    "    #3 nearest neighbor of cat\n",
    "    print(CosineSimilarity().cosSim(cat, the))\n",
    "    print(CosineSimilarity().cosSim(cat, for_))\n",
    "    print(CosineSimilarity().cosSim(cat, data))\n",
    "    print(CosineSimilarity().cosSim(cat, mouse))\n",
    "    print(CosineSimilarity().cosSim(cat, it))\n",
    "    print(CosineSimilarity().cosSim(cat, dog))\n",
    "    print(CosineSimilarity().cosSim(cat, also))\n",
    "    print(CosineSimilarity().cosSim(cat, computer))\n"
   ]
  },
  {
   "cell_type": "code",
   "execution_count": 14,
   "metadata": {},
   "outputs": [
    {
     "name": "stdout",
     "output_type": "stream",
     "text": [
      "0.655148259644331\n",
      "0.6517125735184346\n",
      "0.9996640177196193\n",
      "0.816147502773864\n",
      "0.663583374559236\n",
      "0.6619753729437896\n",
      "0.6642668333372335\n",
      "0.6577737671141277\n"
     ]
    }
   ],
   "source": [
    "    #3 nearest neighbor of computer\n",
    "    print(CosineSimilarity().cosSim(computer, the))\n",
    "    print(CosineSimilarity().cosSim(computer, for_))\n",
    "    print(CosineSimilarity().cosSim(computer, data))\n",
    "    print(CosineSimilarity().cosSim(computer, mouse))\n",
    "    print(CosineSimilarity().cosSim(computer, it))\n",
    "    print(CosineSimilarity().cosSim(computer, dog))\n",
    "    print(CosineSimilarity().cosSim(computer, also))\n",
    "    print(CosineSimilarity().cosSim(computer, cat))"
   ]
  },
  {
   "cell_type": "code",
   "execution_count": 15,
   "metadata": {},
   "outputs": [
    {
     "name": "stdout",
     "output_type": "stream",
     "text": [
      "0.655148259644331\n",
      "0.9990916713931316\n",
      "0.6473562342495666\n",
      "0.32060085114877945\n",
      "0.9988488550590425\n",
      "0.5933226317859459\n",
      "0.9993256668326264\n",
      "0.5969642596224372\n"
     ]
    }
   ],
   "source": [
    "    #3 nearest neighbor of the\n",
    "    print(CosineSimilarity().cosSim(the, computer))\n",
    "    print(CosineSimilarity().cosSim(the, for_))\n",
    "    print(CosineSimilarity().cosSim(the, data))\n",
    "    print(CosineSimilarity().cosSim(the, mouse))\n",
    "    print(CosineSimilarity().cosSim(the, it))\n",
    "    print(CosineSimilarity().cosSim(the, dog))\n",
    "    print(CosineSimilarity().cosSim(the, also))\n",
    "    print(CosineSimilarity().cosSim(the, cat))"
   ]
  },
  {
   "cell_type": "code",
   "execution_count": null,
   "metadata": {},
   "outputs": [],
   "source": []
  }
 ],
 "metadata": {
  "kernelspec": {
   "display_name": "Python 3",
   "language": "python",
   "name": "python3"
  },
  "language_info": {
   "codemirror_mode": {
    "name": "ipython",
    "version": 3
   },
   "file_extension": ".py",
   "mimetype": "text/x-python",
   "name": "python",
   "nbconvert_exporter": "python",
   "pygments_lexer": "ipython3",
   "version": "3.7.6"
  }
 },
 "nbformat": 4,
 "nbformat_minor": 2
}
