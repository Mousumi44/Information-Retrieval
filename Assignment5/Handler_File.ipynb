{
 "cells": [
  {
   "cell_type": "code",
   "execution_count": 33,
   "metadata": {},
   "outputs": [],
   "source": [
    "class Helper(object):\n",
    "    def readfile(self):\n",
    "        corpus = open('dblp-small.txt', 'r').readlines()\n",
    "        return corpus\n",
    "    \n",
    "    def corpus_words(self):\n",
    "        words = []\n",
    "        corpus = self.readfile()        \n",
    "        for sent in corpus:\n",
    "            words.append(sent.split())\n",
    "        return words\n",
    "    \n",
    "    def doc_count(self):\n",
    "        docs = []\n",
    "        corpus = self.readfile()\n",
    "        for doc in corpus:\n",
    "            docs.append(doc)\n",
    "        return len(docs)  \n",
    "        "
   ]
  },
  {
   "cell_type": "code",
   "execution_count": 35,
   "metadata": {},
   "outputs": [
    {
     "data": {
      "text/plain": [
       "10835"
      ]
     },
     "execution_count": 35,
     "metadata": {},
     "output_type": "execute_result"
    }
   ],
   "source": [
    "Helper().doc_count()"
   ]
  },
  {
   "cell_type": "code",
   "execution_count": null,
   "metadata": {},
   "outputs": [],
   "source": []
  }
 ],
 "metadata": {
  "kernelspec": {
   "display_name": "Python 3",
   "language": "python",
   "name": "python3"
  },
  "language_info": {
   "codemirror_mode": {
    "name": "ipython",
    "version": 3
   },
   "file_extension": ".py",
   "mimetype": "text/x-python",
   "name": "python",
   "nbconvert_exporter": "python",
   "pygments_lexer": "ipython3",
   "version": "3.7.6"
  }
 },
 "nbformat": 4,
 "nbformat_minor": 2
}
