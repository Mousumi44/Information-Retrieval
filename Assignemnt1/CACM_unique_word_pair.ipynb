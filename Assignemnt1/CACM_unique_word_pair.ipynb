{
 "cells": [
  {
   "cell_type": "code",
   "execution_count": 1,
   "metadata": {},
   "outputs": [],
   "source": [
    "from itertools import combinations\n",
    "from collections import Counter\n",
    "\n",
    "def collect_pairs(lines):\n",
    "    pair_counter = Counter()\n",
    "    for line in lines:\n",
    "        unique_tokens = sorted(set(line))  # exclude duplicates in same line and sort to ensure one word is always before other\n",
    "        combos = combinations(unique_tokens, 2) #take pair of words, can be in any distance not bigram\n",
    "        pair_counter += Counter(combos)\n",
    "    return pair_counter"
   ]
  },
  {
   "cell_type": "code",
   "execution_count": 2,
   "metadata": {},
   "outputs": [
    {
     "data": {
      "text/plain": [
       "[(('january', 'paper'), 181),\n",
       " (('language', 'programming'), 153),\n",
       " (('january', 'time'), 150),\n",
       " (('january', 'program'), 149),\n",
       " (('january', 'systems'), 149),\n",
       " (('data', 'january'), 142),\n",
       " (('january', 'presented'), 141),\n",
       " (('january', 'programming'), 139),\n",
       " (('program', 'programs'), 133),\n",
       " (('january', 'method'), 125)]"
      ]
     },
     "execution_count": 2,
     "metadata": {},
     "output_type": "execute_result"
    }
   ],
   "source": [
    "file = open (\"cacm.txt\",\"r\")\n",
    "globalWordList = list()\n",
    "\n",
    "for line in file:\n",
    "    wordlist = line.split()\n",
    "    globalWordList.append(wordlist)\n",
    "    \n",
    "pairs = collect_pairs(globalWordList)\n",
    "pairs.most_common(10)"
   ]
  },
  {
   "cell_type": "code",
   "execution_count": null,
   "metadata": {},
   "outputs": [],
   "source": []
  }
 ],
 "metadata": {
  "kernelspec": {
   "display_name": "Python 3",
   "language": "python",
   "name": "python3"
  },
  "language_info": {
   "codemirror_mode": {
    "name": "ipython",
    "version": 3
   },
   "file_extension": ".py",
   "mimetype": "text/x-python",
   "name": "python",
   "nbconvert_exporter": "python",
   "pygments_lexer": "ipython3",
   "version": "3.7.6"
  }
 },
 "nbformat": 4,
 "nbformat_minor": 2
}
